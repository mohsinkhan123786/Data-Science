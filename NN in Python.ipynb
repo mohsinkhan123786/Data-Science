{
 "cells": [
  {
   "cell_type": "markdown",
   "metadata": {},
   "source": [
    "# Importing libraries \n",
    "## 1- NumPy (For Numeric Computation)\n",
    "## 2- MatplotLib (For Data visualization)"
   ]
  },
  {
   "cell_type": "code",
   "execution_count": 1,
   "metadata": {},
   "outputs": [],
   "source": [
    "import numpy as np\n",
    "import matplotlib.pyplot as plt\n",
    "\n",
    "%matplotlib inline"
   ]
  },
  {
   "cell_type": "code",
   "execution_count": 2,
   "metadata": {},
   "outputs": [],
   "source": [
    "# Each data point is length, width and type (Red = 1, Blue = 0) o four flowers\n",
    "# length shows the petal length of flower\n",
    "# width represents the petal width of flower\n",
    "# type can be one of the two categories (\"Red Flowers\" OR \"Blue Flowers\" which our Neural Network will predict)\n",
    "\n",
    "data = [[3,    1.5,    1],\n",
    "        [2,    1,      0],\n",
    "        [4,    1.5,    1],\n",
    "        [3,     1,     0],\n",
    "        [3.5,  0.5,    1],\n",
    "        [2,    0.5,    0],\n",
    "       [5.5,    1,     1],\n",
    "       [1,      1,     0]]\n",
    "\n",
    "mystery_flower = [4.5,  1]"
   ]
  },
  {
   "cell_type": "code",
   "execution_count": 3,
   "metadata": {},
   "outputs": [
    {
     "name": "stdout",
     "output_type": "stream",
     "text": [
      "Enter index # 2\n"
     ]
    },
    {
     "data": {
      "text/plain": [
       "[4, 1.5, 1]"
      ]
     },
     "execution_count": 3,
     "metadata": {},
     "output_type": "execute_result"
    }
   ],
   "source": [
    "# We will take \"index #\"\" as an input from user to check if our code iterates through the rows in the matrix.\n",
    "\n",
    "i = int(input(\"Enter index # \"))\n",
    "data[i]"
   ]
  },
  {
   "cell_type": "code",
   "execution_count": 4,
   "metadata": {},
   "outputs": [],
   "source": [
    "# General Network Architecture\n",
    "\n",
    "\n",
    "\n",
    "#   O     Output layer (Predicted flower types)\n",
    "#  / \\    w1, w2, b\n",
    "# O   O   input layer (input features length, width)"
   ]
  },
  {
   "cell_type": "code",
   "execution_count": 5,
   "metadata": {},
   "outputs": [
    {
     "data": {
      "text/plain": [
       "(-0.8228963587276693, -1.0658073389654001, 0.32340535588648683)"
      ]
     },
     "execution_count": 5,
     "metadata": {},
     "output_type": "execute_result"
    }
   ],
   "source": [
    "# Also remember these random numbers are always b/w range \"-1\" and \"+1\"\n",
    "\n",
    "# w1 = np.random.randn()\n",
    "# w2 = np.random.randn()\n",
    "# b = np.random.randn()\n",
    "\n",
    "# w1, w2, b"
   ]
  },
  {
   "cell_type": "code",
   "execution_count": 5,
   "metadata": {},
   "outputs": [],
   "source": [
    "# Now we need some activation function and as our class labesls\n",
    "# are binary classes. Thus, the \"sigmoidal function\" is the best option\n",
    "\n",
    "def sigmoid(x):\n",
    "    return 1 / (1 + np.exp(-x))\n",
    "\n",
    "# These derivatives are aka \"Gradients\" or \"Sigmoid Prime\"\n",
    "def derivatives(x):\n",
    "    return sigmoid(x) * (1 - sigmoid(x))"
   ]
  },
  {
   "cell_type": "code",
   "execution_count": 6,
   "metadata": {},
   "outputs": [
    {
     "name": "stdout",
     "output_type": "stream",
     "text": [
      "These are Y values \n",
      " [-5.         -3.88888889 -2.77777778 -1.66666667 -0.55555556  0.55555556\n",
      "  1.66666667  2.77777778  3.88888889  5.        ]\n"
     ]
    }
   ],
   "source": [
    "# Now lets plot this sigmoid function.\n",
    "# We can do so by generating list of numbers. We used linspace to equally\n",
    "# spaced steps\n",
    "# Here we said we need steps b/w \"-5\" - \"+5\" with 100 subdivisions\n",
    "# If the # of subdivisions are less our sigmoid curve wont be smooth\n",
    "# but if we use greater # of subdivisions our sigmoid curve will be smooth\n",
    "# Subdivisions basically represents the # of instances in our data set\n",
    "# If you want to clearly visualize the squashing behavior in your graphical\n",
    "# \"Sigmoid Curve\" you can increase the range of steps [say (-20, 20, 100)]\n",
    "\n",
    "T = np.linspace(-5, 5, 10)\n",
    "print(\"These are Y values \\n\", T)"
   ]
  },
  {
   "cell_type": "code",
   "execution_count": 8,
   "metadata": {},
   "outputs": [
    {
     "name": "stdout",
     "output_type": "stream",
     "text": [
      "These are Y-sigmoid values \n",
      " [0.00669285 0.02005754 0.0585369  0.1588691  0.36457644 0.63542356\n",
      " 0.8411309  0.9414631  0.97994246 0.99330715]\n"
     ]
    },
    {
     "ename": "NameError",
     "evalue": "name 'X' is not defined",
     "output_type": "error",
     "traceback": [
      "\u001b[1;31m---------------------------------------------------------------------------\u001b[0m",
      "\u001b[1;31mNameError\u001b[0m                                 Traceback (most recent call last)",
      "\u001b[1;32m<ipython-input-8-0823ab2856e2>\u001b[0m in \u001b[0;36m<module>\u001b[1;34m\u001b[0m\n\u001b[0;32m     12\u001b[0m \u001b[0mprint\u001b[0m\u001b[1;33m(\u001b[0m\u001b[1;34m\"These are Y-sigmoid values \\n\"\u001b[0m\u001b[1;33m,\u001b[0m\u001b[0mY\u001b[0m\u001b[1;33m)\u001b[0m\u001b[1;33m\u001b[0m\u001b[1;33m\u001b[0m\u001b[0m\n\u001b[0;32m     13\u001b[0m \u001b[1;33m\u001b[0m\u001b[0m\n\u001b[1;32m---> 14\u001b[1;33m \u001b[0msigmoid\u001b[0m\u001b[1;33m(\u001b[0m\u001b[0mX\u001b[0m\u001b[1;33m)\u001b[0m\u001b[1;33m\u001b[0m\u001b[1;33m\u001b[0m\u001b[0m\n\u001b[0m\u001b[0;32m     15\u001b[0m \u001b[0mderivatives\u001b[0m\u001b[1;33m(\u001b[0m\u001b[0mX\u001b[0m\u001b[1;33m)\u001b[0m\u001b[1;33m\u001b[0m\u001b[1;33m\u001b[0m\u001b[0m\n",
      "\u001b[1;31mNameError\u001b[0m: name 'X' is not defined"
     ]
    }
   ],
   "source": [
    "# We can get output of this by passing this list of numbers stored in \"T\"\n",
    "# by passing \"T\" as the parameter of our sigmoid function and storing it \n",
    "# in variable \"Y\".\n",
    "# What we will actually do is to calculate sigmoid function for each of the\n",
    "# instance in \"T\" and store the output in variable \"Y\"\n",
    "# This will generate a list of numbers.\n",
    "# You will also notice that all the outputs are +ive values as \n",
    "# the \"Sigmoid function\" always squashes the values b/w range \"0-1\"\n",
    "\n",
    "\n",
    "Y = sigmoid(T)\n",
    "print(\"These are Y-sigmoid values \\n\",Y)\n",
    "\n",
    "sigmoid(X)\n",
    "derivatives(X)"
   ]
  },
  {
   "cell_type": "code",
   "execution_count": 9,
   "metadata": {},
   "outputs": [
    {
     "data": {
      "text/plain": [
       "[<matplotlib.lines.Line2D at 0x19a69a9f610>]"
      ]
     },
     "execution_count": 9,
     "metadata": {},
     "output_type": "execute_result"
    },
    {
     "data": {
      "image/png": "[encoded data removed]",
      "text/plain": [
       "<Figure size 432x288 with 1 Axes>"
      ]
     },
     "metadata": {
      "needs_background": "light"
     },
     "output_type": "display_data"
    }
   ],
   "source": [
    "# Now we will plot this and see if we actually get the sigmoid curve or not?\n",
    "# Also note you can select any variable name. I used \"T\", \n",
    "# you can use \"X\" to denote X-dataset containing those instances.\n",
    "\n",
    "plt.plot(T, Y)"
   ]
  },
  {
   "cell_type": "code",
   "execution_count": 10,
   "metadata": {},
   "outputs": [
    {
     "data": {
      "text/plain": [
       "[<matplotlib.lines.Line2D at 0x19a69dc7340>]"
      ]
     },
     "execution_count": 10,
     "metadata": {},
     "output_type": "execute_result"
    },
    {
     "data": {
      "image/png": "[encoded data removed]",
      "text/plain": [
       "<Figure size 432x288 with 1 Axes>"
      ]
     },
     "metadata": {
      "needs_background": "light"
     },
     "output_type": "display_data"
    }
   ],
   "source": [
    "# Our sigmoid curve is in red and our derivatives curve is in blue\n",
    "\n",
    "X = np.linspace(-6, 6, 100)\n",
    "plt.plot(X, sigmoid(X), c=\"r\")\n",
    "plt.plot(X, derivatives(X), c=\"b\")"
   ]
  },
  {
   "cell_type": "code",
   "execution_count": 11,
   "metadata": {},
   "outputs": [
    {
     "data": {
      "image/png": "[encoded data removed]",
      "text/plain": [
       "<Figure size 432x288 with 1 Axes>"
      ]
     },
     "metadata": {
      "needs_background": "light"
     },
     "output_type": "display_data"
    }
   ],
   "source": [
    "# Lets make a scatter plot of our data before we start to train our model\n",
    "# So, we can observe if, it looks correct\n",
    "\n",
    "plt.axis([0, 6, 0, 6])\n",
    "plt.grid()\n",
    "\n",
    "for i in range(len(data)):\n",
    "    point = data[i]\n",
    "    color = \"r\"\n",
    "    if point[2] == 0:\n",
    "        color = 'b'\n",
    "    plt.scatter(point[0], point[1], c = color)"
   ]
  },
  {
   "cell_type": "code",
   "execution_count": 12,
   "metadata": {},
   "outputs": [
    {
     "data": {
      "text/plain": [
       "[<matplotlib.lines.Line2D at 0x19a69ec73a0>]"
      ]
     },
     "execution_count": 12,
     "metadata": {},
     "output_type": "execute_result"
    },
    {
     "data": {
      "image/png": "[encoded data removed]",
      "text/plain": [
       "<Figure size 432x288 with 1 Axes>"
      ]
     },
     "metadata": {
      "needs_background": "light"
     },
     "output_type": "display_data"
    }
   ],
   "source": [
    "# Training Loop\n",
    "# this training loop will perform following task\n",
    "# loop over our data,            | \n",
    "# pick up any random point       | - This will become our Cost function\n",
    "# run it through the network,    |\n",
    "# see what it should have been   |\n",
    "\n",
    "# Then we are going to take derivatives of our Cost w.r.t. out parameters\n",
    "# use those derivatives of our Cost function to update our parameters (w & b)\n",
    "# by subtracting it and that will decrese our cost value, which will help us\n",
    "# improve our NN's prediction for that data point and if we we see enough\n",
    "# data points our predictions will get better and better for that type of data\n",
    "# This is the reson we say that bigger the training data - better the predictions\n",
    "# of our M.L and A.I models.\n",
    "\n",
    "# epochs = int(input(\"set the number of epochs (iterations): \"))\n",
    "learning_rate = 0.2\n",
    "costs = []\n",
    "\n",
    "w1 = np.random.randn()\n",
    "w2 = np.random.randn()\n",
    "b = np.random.randn()\n",
    "\n",
    "for i in range(50000): # means our algorithm will have 50,000 epochs\n",
    "    ri = np.random.randint(len(data))\n",
    "    point = data[ri]\n",
    "    \n",
    "    z = point[0] * w1 + point[1] * w2 + b\n",
    "    preds = sigmoid(z)\n",
    "    \n",
    "    target = point[2]\n",
    "    cost = np.square(preds - target)\n",
    "    \n",
    "    dcost_preds = 2 * (preds - target)\n",
    "    dpreds_dz = derivatives(z)\n",
    "    \n",
    "    dz_dw1 = point[0]\n",
    "    dz_dw2 = point[1]\n",
    "    dz_db = 1\n",
    "    \n",
    "    dcost_dz = dcost_preds * dpreds_dz\n",
    "    \n",
    "    dcost_dw1 = dcost_dz * dz_dw1\n",
    "    dcost_dw2 = dcost_dz * dz_dw2\n",
    "    dcost_db = dcost_dz * dz_db\n",
    "    \n",
    "    w1 = w1 - learning_rate * dcost_dw1\n",
    "    w2 = w2 - learning_rate * dcost_dw2\n",
    "    b = b - learning_rate * dcost_db\n",
    "    \n",
    "    if i % 100 == 0:\n",
    "        cost_sum = 0\n",
    "        for j in range(len(data)):\n",
    "            point = data[ri]\n",
    "            \n",
    "            z = point[0] * w1 + point[1] * w2 + b\n",
    "            preds = sigmoid(z)\n",
    "    \n",
    "            target = point[2]\n",
    "            cost_sum = cost_sum + np.square(preds - target)\n",
    "            \n",
    "        costs.append(cost_sum/len(data))\n",
    "    \n",
    "plt.plot(costs)\n",
    "    #     print('\\n')"
   ]
  },
  {
   "cell_type": "code",
   "execution_count": 27,
   "metadata": {},
   "outputs": [
    {
     "name": "stdout",
     "output_type": "stream",
     "text": [
      "[3, 1.5, 1]\n",
      "Predictions:  0.7229886273557805\n",
      "[2, 1, 0]\n",
      "Predictions:  0.0005555130716084661\n",
      "[4, 1.5, 1]\n",
      "Predictions:  0.9996218296626862\n",
      "[3, 1, 0]\n",
      "Predictions:  0.36017375333763363\n",
      "[3.5, 0.5, 1]\n",
      "Predictions:  0.7944027192210559\n",
      "[2, 0.5, 0]\n",
      "Predictions:  0.00011986701454462035\n",
      "[5.5, 1, 1]\n",
      "Predictions:  0.999999945579321\n",
      "[1, 1, 0]\n",
      "Predictions:  5.48808669726976e-07\n"
     ]
    }
   ],
   "source": [
    "for i in range(len(data)):\n",
    "    point = data[i]\n",
    "    print(point)\n",
    "    z = point[0] * w1 + point[1] * w2 + b\n",
    "    preds = sigmoid(z)\n",
    "    print(\"Predictions: \", preds)"
   ]
  },
  {
   "cell_type": "code",
   "execution_count": 29,
   "metadata": {},
   "outputs": [
    {
     "name": "stdout",
     "output_type": "stream",
     "text": [
      "Our mystery flower belongs to class:  0.9999448869497647\n"
     ]
    }
   ],
   "source": [
    "z = mystery_flower[0] * w1 + mystery_flower[1] * w2 + b\n",
    "preds = sigmoid(z)\n",
    "\n",
    "print(\"Our mystery flower belongs to class: \", preds)"
   ]
  },
  {
   "cell_type": "code",
   "execution_count": 13,
   "metadata": {},
   "outputs": [
    {
     "name": "stdout",
     "output_type": "stream",
     "text": [
      "Requirement already satisfied: gtts in c:\\users\\mohsin\\anaconda3\\lib\\site-packages (2.2.2)\n",
      "Requirement already satisfied: requests in c:\\users\\mohsin\\anaconda3\\lib\\site-packages (from gtts) (2.24.0)\n",
      "Requirement already satisfied: six in c:\\users\\mohsin\\anaconda3\\lib\\site-packages (from gtts) (1.15.0)\n",
      "Requirement already satisfied: click in c:\\users\\mohsin\\anaconda3\\lib\\site-packages (from gtts) (7.1.2)\n",
      "Requirement already satisfied: urllib3!=1.25.0,!=1.25.1,<1.26,>=1.21.1 in c:\\users\\mohsin\\anaconda3\\lib\\site-packages (from requests->gtts) (1.25.11)\n",
      "Requirement already satisfied: chardet<4,>=3.0.2 in c:\\users\\mohsin\\anaconda3\\lib\\site-packages (from requests->gtts) (3.0.4)\n",
      "Requirement already satisfied: idna<3,>=2.5 in c:\\users\\mohsin\\anaconda3\\lib\\site-packages (from requests->gtts) (2.10)\n",
      "Requirement already satisfied: certifi>=2017.4.17 in c:\\users\\mohsin\\anaconda3\\lib\\site-packages (from requests->gtts) (2020.6.20)\n"
     ]
    }
   ],
   "source": [
    "# Installinng gtts (short for Google Text to Speech) library, which is used to convert text into speech. \n",
    "# This GTTS library will help us generate the speech as the output of our Neural Network.\n",
    "\n",
    "!pip install gtts"
   ]
  },
  {
   "cell_type": "code",
   "execution_count": 14,
   "metadata": {},
   "outputs": [],
   "source": [
    "import os\n",
    "from gtts import gTTS"
   ]
  },
  {
   "cell_type": "code",
   "execution_count": 15,
   "metadata": {},
   "outputs": [],
   "source": [
    "red = \"This is a red flower. Roses are red.\"\n",
    "language = 'en'\n",
    "output = gTTS(text=red, lang=language, slow=False)\n",
    "output.save('red.mp3')"
   ]
  },
  {
   "cell_type": "code",
   "execution_count": 16,
   "metadata": {},
   "outputs": [],
   "source": [
    "blue = \"This is a blue flower. Voilets are blue.\"\n",
    "language = 'en'\n",
    "output = gTTS(text=blue, lang=language, slow=False)\n",
    "output.save('blue.mp3')"
   ]
  },
  {
   "cell_type": "code",
   "execution_count": 19,
   "metadata": {},
   "outputs": [],
   "source": [
    "def which_flower(length, width):\n",
    "    z = length * w1 + width * w2 + b\n",
    "    preds = sigmoid(z)\n",
    "    if preds < 0.5:\n",
    "        os.system(\"start blue.mp3\")\n",
    "        print('This is a blue flower. Voilets are blue.')\n",
    "    else:\n",
    "        os.system(\"start red.mp3\")\n",
    "        print(\"This is a red flower. Roses are red.\")"
   ]
  },
  {
   "cell_type": "code",
   "execution_count": 20,
   "metadata": {},
   "outputs": [
    {
     "name": "stdout",
     "output_type": "stream",
     "text": [
      "This is a blue flower. Voilets are blue.\n"
     ]
    }
   ],
   "source": [
    "which_flower(1, 1)"
   ]
  },
  {
   "cell_type": "code",
   "execution_count": 21,
   "metadata": {},
   "outputs": [
    {
     "name": "stdout",
     "output_type": "stream",
     "text": [
      "This is a red flower. Roses are red.\n"
     ]
    }
   ],
   "source": [
    "which_flower(4.5, 1)"
   ]
  },
  {
   "cell_type": "code",
   "execution_count": null,
   "metadata": {},
   "outputs": [],
   "source": []
  }
 ],
 "metadata": {
  "kernelspec": {
   "display_name": "Python 3",
   "language": "python",
   "name": "python3"
  },
  "language_info": {
   "codemirror_mode": {
    "name": "ipython",
    "version": 3
   },
   "file_extension": ".py",
   "mimetype": "text/x-python",
   "name": "python",
   "nbconvert_exporter": "python",
   "pygments_lexer": "ipython3",
   "version": "3.8.5"
  }
 },
 "nbformat": 4,
 "nbformat_minor": 4
}
